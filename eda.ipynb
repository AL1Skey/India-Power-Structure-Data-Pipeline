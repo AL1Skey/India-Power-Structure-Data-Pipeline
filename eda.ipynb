{
 "cells": [
  {
   "cell_type": "markdown",
   "metadata": {},
   "source": [
    "Objective: Explorasi Data Analisis"
   ]
  },
  {
   "cell_type": "markdown",
   "metadata": {},
   "source": [
    "# Import Library"
   ]
  },
  {
   "cell_type": "code",
   "execution_count": 5,
   "metadata": {},
   "outputs": [],
   "source": [
    "import pandas as pd\n",
    "import numpy as np\n",
    "import re"
   ]
  },
  {
   "cell_type": "code",
   "execution_count": 6,
   "metadata": {},
   "outputs": [
    {
     "name": "stdout",
     "output_type": "stream",
     "text": [
      "<class 'pandas.core.frame.DataFrame'>\n",
      "RangeIndex: 612 entries, 0 to 611\n",
      "Data columns (total 6 columns):\n",
      " #   Column             Non-Null Count  Dtype  \n",
      "---  ------             --------------  -----  \n",
      " 0   teritory           612 non-null    object \n",
      " 1   year               612 non-null    object \n",
      " 2   power_spec         612 non-null    int64  \n",
      " 3   power_needed       612 non-null    int64  \n",
      " 4   kwh_needed         612 non-null    float64\n",
      " 5   megawatt_capacity  612 non-null    int64  \n",
      "dtypes: float64(1), int64(3), object(2)\n",
      "memory usage: 28.8+ KB\n"
     ]
    }
   ],
   "source": [
    "pd.read_csv('clean.csv').info()"
   ]
  },
  {
   "cell_type": "markdown",
   "metadata": {},
   "source": [
    "# Data Loading"
   ]
  },
  {
   "cell_type": "code",
   "execution_count": 228,
   "metadata": {},
   "outputs": [
    {
     "name": "stdout",
     "output_type": "stream",
     "text": [
      "<class 'pandas.core.frame.DataFrame'>\n",
      "RangeIndex: 612 entries, 0 to 611\n",
      "Data columns (total 6 columns):\n",
      " #   Column                                          Non-Null Count  Dtype \n",
      "---  ------                                          --------------  ----- \n",
      " 0   State/Union Territory                           612 non-null    object\n",
      " 1   Year                                            612 non-null    object\n",
      " 2   Power_Requirement_Net_Crore_Units               612 non-null    object\n",
      " 3   Availability_Of_Power_Net_Crore_Units           612 non-null    object\n",
      " 4   Availability_Of_Power_Per_Capita_kiloWatt-Hour  612 non-null    object\n",
      " 5   Installed_Power_Capacity_MegaWatt               612 non-null    object\n",
      "dtypes: object(6)\n",
      "memory usage: 28.8+ KB\n"
     ]
    }
   ],
   "source": [
    "data = pd.read_csv('adam.csv')\n",
    "data.info()"
   ]
  },
  {
   "cell_type": "code",
   "execution_count": 229,
   "metadata": {},
   "outputs": [
    {
     "data": {
      "text/html": [
       "<div>\n",
       "<style scoped>\n",
       "    .dataframe tbody tr th:only-of-type {\n",
       "        vertical-align: middle;\n",
       "    }\n",
       "\n",
       "    .dataframe tbody tr th {\n",
       "        vertical-align: top;\n",
       "    }\n",
       "\n",
       "    .dataframe thead th {\n",
       "        text-align: right;\n",
       "    }\n",
       "</style>\n",
       "<table border=\"1\" class=\"dataframe\">\n",
       "  <thead>\n",
       "    <tr style=\"text-align: right;\">\n",
       "      <th></th>\n",
       "      <th>State/Union Territory</th>\n",
       "      <th>Year</th>\n",
       "      <th>Power_Requirement_Net_Crore_Units</th>\n",
       "      <th>Availability_Of_Power_Net_Crore_Units</th>\n",
       "      <th>Availability_Of_Power_Per_Capita_kiloWatt-Hour</th>\n",
       "      <th>Installed_Power_Capacity_MegaWatt</th>\n",
       "    </tr>\n",
       "  </thead>\n",
       "  <tbody>\n",
       "    <tr>\n",
       "      <th>0</th>\n",
       "      <td>Andaman and Nicobar Islands</td>\n",
       "      <td>2004-05</td>\n",
       "      <td>-</td>\n",
       "      <td>-</td>\n",
       "      <td>-</td>\n",
       "      <td>65</td>\n",
       "    </tr>\n",
       "    <tr>\n",
       "      <th>1</th>\n",
       "      <td>Andhra Pradesh</td>\n",
       "      <td>2004-05</td>\n",
       "      <td>5042</td>\n",
       "      <td>5006</td>\n",
       "      <td>656.9</td>\n",
       "      <td>10809</td>\n",
       "    </tr>\n",
       "    <tr>\n",
       "      <th>2</th>\n",
       "      <td>Arunachal Pradesh</td>\n",
       "      <td>2004-05</td>\n",
       "      <td>16</td>\n",
       "      <td>16</td>\n",
       "      <td>143.9</td>\n",
       "      <td>187</td>\n",
       "    </tr>\n",
       "    <tr>\n",
       "      <th>3</th>\n",
       "      <td>Assam</td>\n",
       "      <td>2004-05</td>\n",
       "      <td>379</td>\n",
       "      <td>358</td>\n",
       "      <td>134.4</td>\n",
       "      <td>1133</td>\n",
       "    </tr>\n",
       "    <tr>\n",
       "      <th>4</th>\n",
       "      <td>Bihar</td>\n",
       "      <td>2004-05</td>\n",
       "      <td>720</td>\n",
       "      <td>648</td>\n",
       "      <td>78</td>\n",
       "      <td>1644</td>\n",
       "    </tr>\n",
       "  </tbody>\n",
       "</table>\n",
       "</div>"
      ],
      "text/plain": [
       "         State/Union Territory     Year Power_Requirement_Net_Crore_Units  \\\n",
       "0  Andaman and Nicobar Islands  2004-05                                 -   \n",
       "1               Andhra Pradesh  2004-05                              5042   \n",
       "2            Arunachal Pradesh  2004-05                                16   \n",
       "3                        Assam  2004-05                               379   \n",
       "4                        Bihar  2004-05                               720   \n",
       "\n",
       "  Availability_Of_Power_Net_Crore_Units  \\\n",
       "0                                     -   \n",
       "1                                  5006   \n",
       "2                                    16   \n",
       "3                                   358   \n",
       "4                                   648   \n",
       "\n",
       "  Availability_Of_Power_Per_Capita_kiloWatt-Hour  \\\n",
       "0                                              -   \n",
       "1                                          656.9   \n",
       "2                                          143.9   \n",
       "3                                          134.4   \n",
       "4                                             78   \n",
       "\n",
       "  Installed_Power_Capacity_MegaWatt  \n",
       "0                                65  \n",
       "1                             10809  \n",
       "2                               187  \n",
       "3                              1133  \n",
       "4                              1644  "
      ]
     },
     "execution_count": 229,
     "metadata": {},
     "output_type": "execute_result"
    }
   ],
   "source": [
    "data.head()"
   ]
  },
  {
   "cell_type": "code",
   "execution_count": 230,
   "metadata": {},
   "outputs": [
    {
     "data": {
      "text/plain": [
       "0"
      ]
     },
     "execution_count": 230,
     "metadata": {},
     "output_type": "execute_result"
    }
   ],
   "source": [
    "data.duplicated().sum()"
   ]
  },
  {
   "cell_type": "markdown",
   "metadata": {},
   "source": [
    "### Melihat Data selain Numerik di kolom Numerik"
   ]
  },
  {
   "cell_type": "code",
   "execution_count": 231,
   "metadata": {},
   "outputs": [
    {
     "data": {
      "text/plain": [
       "Index(['State/Union Territory', 'Year', 'Power_Requirement_Net_Crore_Units',\n",
       "       'Availability_Of_Power_Net_Crore_Units',\n",
       "       'Availability_Of_Power_Per_Capita_kiloWatt-Hour',\n",
       "       'Installed_Power_Capacity_MegaWatt'],\n",
       "      dtype='object')"
      ]
     },
     "execution_count": 231,
     "metadata": {},
     "output_type": "execute_result"
    }
   ],
   "source": [
    "data.columns"
   ]
  },
  {
   "cell_type": "code",
   "execution_count": 232,
   "metadata": {},
   "outputs": [
    {
     "name": "stdout",
     "output_type": "stream",
     "text": [
      "data kosong Power_Requirement_Net_Crore_Units :  ['-', '.']\n",
      "data kosong Availability_Of_Power_Net_Crore_Units :  ['-', '.']\n",
      "data kosong Availability_Of_Power_Per_Capita_kiloWatt-Hour :  ['-', '.']\n",
      "data kosong Installed_Power_Capacity_MegaWatt :  ['.']\n"
     ]
    }
   ],
   "source": [
    "test = data.columns[2:]\n",
    "\n",
    "for i in test:\n",
    "    print(f\"data kosong {i} : \",[j for j in data[i].unique() if re.sub(r\"[+-]?([0-9]*[.])?[0-9]+\",'',j)])"
   ]
  },
  {
   "cell_type": "code",
   "execution_count": 233,
   "metadata": {},
   "outputs": [],
   "source": [
    "data.columns = ['teritory','year','power_spec','power_needed','kwh_needed','megawatt_capacity']"
   ]
  },
  {
   "cell_type": "code",
   "execution_count": 234,
   "metadata": {},
   "outputs": [
    {
     "data": {
      "text/plain": [
       "nan"
      ]
     },
     "execution_count": 234,
     "metadata": {},
     "output_type": "execute_result"
    }
   ],
   "source": [
    "np.NaN"
   ]
  },
  {
   "cell_type": "code",
   "execution_count": 235,
   "metadata": {},
   "outputs": [
    {
     "data": {
      "text/plain": [
       "teritory             0\n",
       "year                 0\n",
       "power_spec           0\n",
       "power_needed         0\n",
       "kwh_needed           0\n",
       "megawatt_capacity    0\n",
       "dtype: int64"
      ]
     },
     "execution_count": 235,
     "metadata": {},
     "output_type": "execute_result"
    }
   ],
   "source": [
    "data.replace('.','0',inplace=True)\n",
    "data.replace('-','0',inplace=True)\n",
    "data.isnull().sum()"
   ]
  },
  {
   "cell_type": "code",
   "execution_count": 236,
   "metadata": {},
   "outputs": [
    {
     "data": {
      "text/html": [
       "<div>\n",
       "<style scoped>\n",
       "    .dataframe tbody tr th:only-of-type {\n",
       "        vertical-align: middle;\n",
       "    }\n",
       "\n",
       "    .dataframe tbody tr th {\n",
       "        vertical-align: top;\n",
       "    }\n",
       "\n",
       "    .dataframe thead th {\n",
       "        text-align: right;\n",
       "    }\n",
       "</style>\n",
       "<table border=\"1\" class=\"dataframe\">\n",
       "  <thead>\n",
       "    <tr style=\"text-align: right;\">\n",
       "      <th></th>\n",
       "      <th>teritory</th>\n",
       "      <th>year</th>\n",
       "      <th>power_spec</th>\n",
       "      <th>power_needed</th>\n",
       "      <th>kwh_needed</th>\n",
       "      <th>megawatt_capacity</th>\n",
       "    </tr>\n",
       "  </thead>\n",
       "  <tbody>\n",
       "  </tbody>\n",
       "</table>\n",
       "</div>"
      ],
      "text/plain": [
       "Empty DataFrame\n",
       "Columns: [teritory, year, power_spec, power_needed, kwh_needed, megawatt_capacity]\n",
       "Index: []"
      ]
     },
     "execution_count": 236,
     "metadata": {},
     "output_type": "execute_result"
    }
   ],
   "source": [
    "data.query('power_spec == \"-\"')"
   ]
  },
  {
   "cell_type": "code",
   "execution_count": 237,
   "metadata": {},
   "outputs": [
    {
     "name": "stdout",
     "output_type": "stream",
     "text": [
      "<class 'pandas.core.frame.DataFrame'>\n",
      "RangeIndex: 612 entries, 0 to 611\n",
      "Data columns (total 6 columns):\n",
      " #   Column             Non-Null Count  Dtype  \n",
      "---  ------             --------------  -----  \n",
      " 0   teritory           612 non-null    object \n",
      " 1   year               612 non-null    object \n",
      " 2   power_spec         612 non-null    object \n",
      " 3   power_needed       612 non-null    object \n",
      " 4   kwh_needed         612 non-null    float64\n",
      " 5   megawatt_capacity  612 non-null    object \n",
      "dtypes: float64(1), object(5)\n",
      "memory usage: 28.8+ KB\n"
     ]
    }
   ],
   "source": [
    "data['kwh_needed'] = data['kwh_needed'].astype(float)\n",
    "data.info()"
   ]
  },
  {
   "cell_type": "code",
   "execution_count": 238,
   "metadata": {},
   "outputs": [
    {
     "name": "stdout",
     "output_type": "stream",
     "text": [
      "<class 'pandas.core.frame.DataFrame'>\n",
      "RangeIndex: 612 entries, 0 to 611\n",
      "Data columns (total 6 columns):\n",
      " #   Column             Non-Null Count  Dtype  \n",
      "---  ------             --------------  -----  \n",
      " 0   teritory           612 non-null    object \n",
      " 1   year               612 non-null    object \n",
      " 2   power_spec         612 non-null    int32  \n",
      " 3   power_needed       612 non-null    int32  \n",
      " 4   kwh_needed         612 non-null    float64\n",
      " 5   megawatt_capacity  612 non-null    int32  \n",
      "dtypes: float64(1), int32(3), object(2)\n",
      "memory usage: 21.6+ KB\n"
     ]
    }
   ],
   "source": [
    "data[['power_spec','power_needed','megawatt_capacity']] = data[['power_spec','power_needed','megawatt_capacity']].astype(int)\n",
    "data.info()"
   ]
  },
  {
   "cell_type": "code",
   "execution_count": 239,
   "metadata": {},
   "outputs": [],
   "source": [
    "from datetime import datetime"
   ]
  },
  {
   "cell_type": "code",
   "execution_count": 240,
   "metadata": {},
   "outputs": [
    {
     "name": "stdout",
     "output_type": "stream",
     "text": [
      "<class 'pandas.core.frame.DataFrame'>\n",
      "RangeIndex: 612 entries, 0 to 611\n",
      "Data columns (total 6 columns):\n",
      " #   Column             Non-Null Count  Dtype         \n",
      "---  ------             --------------  -----         \n",
      " 0   teritory           612 non-null    object        \n",
      " 1   year               612 non-null    datetime64[ns]\n",
      " 2   power_spec         612 non-null    int32         \n",
      " 3   power_needed       612 non-null    int32         \n",
      " 4   kwh_needed         612 non-null    float64       \n",
      " 5   megawatt_capacity  612 non-null    int32         \n",
      "dtypes: datetime64[ns](1), float64(1), int32(3), object(1)\n",
      "memory usage: 21.6+ KB\n"
     ]
    }
   ],
   "source": [
    "data['year'] = data['year'].apply(lambda x: datetime.strptime(x.split('-')[0], \"%Y\"))\n",
    "data.info()"
   ]
  },
  {
   "cell_type": "code",
   "execution_count": 241,
   "metadata": {},
   "outputs": [
    {
     "data": {
      "text/plain": [
       "<DatetimeArray>\n",
       "['2004-01-01 00:00:00', '2005-01-01 00:00:00', '2006-01-01 00:00:00',\n",
       " '2007-01-01 00:00:00', '2008-01-01 00:00:00', '2009-01-01 00:00:00',\n",
       " '2010-01-01 00:00:00', '2011-01-01 00:00:00', '2012-01-01 00:00:00',\n",
       " '2013-01-01 00:00:00', '2014-01-01 00:00:00', '2015-01-01 00:00:00',\n",
       " '2016-01-01 00:00:00', '2017-01-01 00:00:00', '2018-01-01 00:00:00',\n",
       " '2019-01-01 00:00:00', '2020-01-01 00:00:00']\n",
       "Length: 17, dtype: datetime64[ns]"
      ]
     },
     "execution_count": 241,
     "metadata": {},
     "output_type": "execute_result"
    }
   ],
   "source": [
    "data['year'].unique()"
   ]
  },
  {
   "cell_type": "code",
   "execution_count": null,
   "metadata": {},
   "outputs": [],
   "source": []
  }
 ],
 "metadata": {
  "kernelspec": {
   "display_name": "Python 3",
   "language": "python",
   "name": "python3"
  },
  "language_info": {
   "codemirror_mode": {
    "name": "ipython",
    "version": 3
   },
   "file_extension": ".py",
   "mimetype": "text/x-python",
   "name": "python",
   "nbconvert_exporter": "python",
   "pygments_lexer": "ipython3",
   "version": "3.10.0"
  }
 },
 "nbformat": 4,
 "nbformat_minor": 2
}
